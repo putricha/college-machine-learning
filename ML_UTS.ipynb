{
  "nbformat": 4,
  "nbformat_minor": 0,
  "metadata": {
    "colab": {
      "provenance": [],
      "gpuType": "T4",
      "include_colab_link": true
    },
    "kernelspec": {
      "name": "python3",
      "display_name": "Python 3"
    },
    "language_info": {
      "name": "python"
    },
    "accelerator": "GPU"
  },
  "cells": [
    {
      "cell_type": "markdown",
      "metadata": {
        "id": "view-in-github",
        "colab_type": "text"
      },
      "source": [
        "<a href=\"https://colab.research.google.com/github/putricha/college-machine-learning/blob/main/ML_UTS.ipynb\" target=\"_parent\"><img src=\"https://colab.research.google.com/assets/colab-badge.svg\" alt=\"Open In Colab\"/></a>"
      ]
    },
    {
      "cell_type": "markdown",
      "source": [
        "Nama Anggota Kelompok\n",
        "1. Ahmad Taufiq Hidayatulloh - 2241720207\n",
        "2. Lucky Kurniawan Langoday - 2241720168\n",
        "3. Putri Norchasana - 2241720036\n",
        "4. Raffy Jamil Octavialdy - 2241720082"
      ],
      "metadata": {
        "id": "mEjpDC3jWdl8"
      }
    },
    {
      "cell_type": "markdown",
      "source": [
        "# Download Dataset From Kaggle"
      ],
      "metadata": {
        "id": "vAGcGP7ZWm9d"
      }
    },
    {
      "cell_type": "code",
      "execution_count": null,
      "metadata": {
        "colab": {
          "base_uri": "https://localhost:8080/"
        },
        "id": "vN0sWUX6n22E",
        "outputId": "ed375155-de42-467e-dd78-f740d807b5e7"
      },
      "outputs": [
        {
          "output_type": "stream",
          "name": "stdout",
          "text": [
            "Requirement already satisfied: kaggle in /usr/local/lib/python3.10/dist-packages (1.6.17)\n",
            "Requirement already satisfied: six>=1.10 in /usr/local/lib/python3.10/dist-packages (from kaggle) (1.16.0)\n",
            "Requirement already satisfied: certifi>=2023.7.22 in /usr/local/lib/python3.10/dist-packages (from kaggle) (2024.8.30)\n",
            "Requirement already satisfied: python-dateutil in /usr/local/lib/python3.10/dist-packages (from kaggle) (2.8.2)\n",
            "Requirement already satisfied: requests in /usr/local/lib/python3.10/dist-packages (from kaggle) (2.32.3)\n",
            "Requirement already satisfied: tqdm in /usr/local/lib/python3.10/dist-packages (from kaggle) (4.66.5)\n",
            "Requirement already satisfied: python-slugify in /usr/local/lib/python3.10/dist-packages (from kaggle) (8.0.4)\n",
            "Requirement already satisfied: urllib3 in /usr/local/lib/python3.10/dist-packages (from kaggle) (2.2.3)\n",
            "Requirement already satisfied: bleach in /usr/local/lib/python3.10/dist-packages (from kaggle) (6.1.0)\n",
            "Requirement already satisfied: webencodings in /usr/local/lib/python3.10/dist-packages (from bleach->kaggle) (0.5.1)\n",
            "Requirement already satisfied: text-unidecode>=1.3 in /usr/local/lib/python3.10/dist-packages (from python-slugify->kaggle) (1.3)\n",
            "Requirement already satisfied: charset-normalizer<4,>=2 in /usr/local/lib/python3.10/dist-packages (from requests->kaggle) (3.4.0)\n",
            "Requirement already satisfied: idna<4,>=2.5 in /usr/local/lib/python3.10/dist-packages (from requests->kaggle) (3.10)\n"
          ]
        }
      ],
      "source": [
        "!pip install kaggle"
      ]
    },
    {
      "cell_type": "code",
      "source": [
        "from google.colab import files\n",
        "files.upload()"
      ],
      "metadata": {
        "colab": {
          "base_uri": "https://localhost:8080/",
          "height": 91
        },
        "id": "0Zr0aNKXojio",
        "outputId": "f73d5607-361a-4ab7-dfff-cb7d497e45be"
      },
      "execution_count": null,
      "outputs": [
        {
          "output_type": "display_data",
          "data": {
            "text/plain": [
              "<IPython.core.display.HTML object>"
            ],
            "text/html": [
              "\n",
              "     <input type=\"file\" id=\"files-b0e0981c-9550-4fd4-9e54-56bbb0de50ba\" name=\"files[]\" multiple disabled\n",
              "        style=\"border:none\" />\n",
              "     <output id=\"result-b0e0981c-9550-4fd4-9e54-56bbb0de50ba\">\n",
              "      Upload widget is only available when the cell has been executed in the\n",
              "      current browser session. Please rerun this cell to enable.\n",
              "      </output>\n",
              "      <script>// Copyright 2017 Google LLC\n",
              "//\n",
              "// Licensed under the Apache License, Version 2.0 (the \"License\");\n",
              "// you may not use this file except in compliance with the License.\n",
              "// You may obtain a copy of the License at\n",
              "//\n",
              "//      http://www.apache.org/licenses/LICENSE-2.0\n",
              "//\n",
              "// Unless required by applicable law or agreed to in writing, software\n",
              "// distributed under the License is distributed on an \"AS IS\" BASIS,\n",
              "// WITHOUT WARRANTIES OR CONDITIONS OF ANY KIND, either express or implied.\n",
              "// See the License for the specific language governing permissions and\n",
              "// limitations under the License.\n",
              "\n",
              "/**\n",
              " * @fileoverview Helpers for google.colab Python module.\n",
              " */\n",
              "(function(scope) {\n",
              "function span(text, styleAttributes = {}) {\n",
              "  const element = document.createElement('span');\n",
              "  element.textContent = text;\n",
              "  for (const key of Object.keys(styleAttributes)) {\n",
              "    element.style[key] = styleAttributes[key];\n",
              "  }\n",
              "  return element;\n",
              "}\n",
              "\n",
              "// Max number of bytes which will be uploaded at a time.\n",
              "const MAX_PAYLOAD_SIZE = 100 * 1024;\n",
              "\n",
              "function _uploadFiles(inputId, outputId) {\n",
              "  const steps = uploadFilesStep(inputId, outputId);\n",
              "  const outputElement = document.getElementById(outputId);\n",
              "  // Cache steps on the outputElement to make it available for the next call\n",
              "  // to uploadFilesContinue from Python.\n",
              "  outputElement.steps = steps;\n",
              "\n",
              "  return _uploadFilesContinue(outputId);\n",
              "}\n",
              "\n",
              "// This is roughly an async generator (not supported in the browser yet),\n",
              "// where there are multiple asynchronous steps and the Python side is going\n",
              "// to poll for completion of each step.\n",
              "// This uses a Promise to block the python side on completion of each step,\n",
              "// then passes the result of the previous step as the input to the next step.\n",
              "function _uploadFilesContinue(outputId) {\n",
              "  const outputElement = document.getElementById(outputId);\n",
              "  const steps = outputElement.steps;\n",
              "\n",
              "  const next = steps.next(outputElement.lastPromiseValue);\n",
              "  return Promise.resolve(next.value.promise).then((value) => {\n",
              "    // Cache the last promise value to make it available to the next\n",
              "    // step of the generator.\n",
              "    outputElement.lastPromiseValue = value;\n",
              "    return next.value.response;\n",
              "  });\n",
              "}\n",
              "\n",
              "/**\n",
              " * Generator function which is called between each async step of the upload\n",
              " * process.\n",
              " * @param {string} inputId Element ID of the input file picker element.\n",
              " * @param {string} outputId Element ID of the output display.\n",
              " * @return {!Iterable<!Object>} Iterable of next steps.\n",
              " */\n",
              "function* uploadFilesStep(inputId, outputId) {\n",
              "  const inputElement = document.getElementById(inputId);\n",
              "  inputElement.disabled = false;\n",
              "\n",
              "  const outputElement = document.getElementById(outputId);\n",
              "  outputElement.innerHTML = '';\n",
              "\n",
              "  const pickedPromise = new Promise((resolve) => {\n",
              "    inputElement.addEventListener('change', (e) => {\n",
              "      resolve(e.target.files);\n",
              "    });\n",
              "  });\n",
              "\n",
              "  const cancel = document.createElement('button');\n",
              "  inputElement.parentElement.appendChild(cancel);\n",
              "  cancel.textContent = 'Cancel upload';\n",
              "  const cancelPromise = new Promise((resolve) => {\n",
              "    cancel.onclick = () => {\n",
              "      resolve(null);\n",
              "    };\n",
              "  });\n",
              "\n",
              "  // Wait for the user to pick the files.\n",
              "  const files = yield {\n",
              "    promise: Promise.race([pickedPromise, cancelPromise]),\n",
              "    response: {\n",
              "      action: 'starting',\n",
              "    }\n",
              "  };\n",
              "\n",
              "  cancel.remove();\n",
              "\n",
              "  // Disable the input element since further picks are not allowed.\n",
              "  inputElement.disabled = true;\n",
              "\n",
              "  if (!files) {\n",
              "    return {\n",
              "      response: {\n",
              "        action: 'complete',\n",
              "      }\n",
              "    };\n",
              "  }\n",
              "\n",
              "  for (const file of files) {\n",
              "    const li = document.createElement('li');\n",
              "    li.append(span(file.name, {fontWeight: 'bold'}));\n",
              "    li.append(span(\n",
              "        `(${file.type || 'n/a'}) - ${file.size} bytes, ` +\n",
              "        `last modified: ${\n",
              "            file.lastModifiedDate ? file.lastModifiedDate.toLocaleDateString() :\n",
              "                                    'n/a'} - `));\n",
              "    const percent = span('0% done');\n",
              "    li.appendChild(percent);\n",
              "\n",
              "    outputElement.appendChild(li);\n",
              "\n",
              "    const fileDataPromise = new Promise((resolve) => {\n",
              "      const reader = new FileReader();\n",
              "      reader.onload = (e) => {\n",
              "        resolve(e.target.result);\n",
              "      };\n",
              "      reader.readAsArrayBuffer(file);\n",
              "    });\n",
              "    // Wait for the data to be ready.\n",
              "    let fileData = yield {\n",
              "      promise: fileDataPromise,\n",
              "      response: {\n",
              "        action: 'continue',\n",
              "      }\n",
              "    };\n",
              "\n",
              "    // Use a chunked sending to avoid message size limits. See b/62115660.\n",
              "    let position = 0;\n",
              "    do {\n",
              "      const length = Math.min(fileData.byteLength - position, MAX_PAYLOAD_SIZE);\n",
              "      const chunk = new Uint8Array(fileData, position, length);\n",
              "      position += length;\n",
              "\n",
              "      const base64 = btoa(String.fromCharCode.apply(null, chunk));\n",
              "      yield {\n",
              "        response: {\n",
              "          action: 'append',\n",
              "          file: file.name,\n",
              "          data: base64,\n",
              "        },\n",
              "      };\n",
              "\n",
              "      let percentDone = fileData.byteLength === 0 ?\n",
              "          100 :\n",
              "          Math.round((position / fileData.byteLength) * 100);\n",
              "      percent.textContent = `${percentDone}% done`;\n",
              "\n",
              "    } while (position < fileData.byteLength);\n",
              "  }\n",
              "\n",
              "  // All done.\n",
              "  yield {\n",
              "    response: {\n",
              "      action: 'complete',\n",
              "    }\n",
              "  };\n",
              "}\n",
              "\n",
              "scope.google = scope.google || {};\n",
              "scope.google.colab = scope.google.colab || {};\n",
              "scope.google.colab._files = {\n",
              "  _uploadFiles,\n",
              "  _uploadFilesContinue,\n",
              "};\n",
              "})(self);\n",
              "</script> "
            ]
          },
          "metadata": {}
        },
        {
          "output_type": "stream",
          "name": "stdout",
          "text": [
            "Saving kaggle.json to kaggle.json\n"
          ]
        },
        {
          "output_type": "execute_result",
          "data": {
            "text/plain": [
              "{'kaggle.json': b'{\"username\":\"raffyjo\",\"key\":\"8a41316a144bd74e46074ad1d84f1e4a\"}'}"
            ]
          },
          "metadata": {},
          "execution_count": 2
        }
      ]
    },
    {
      "cell_type": "code",
      "source": [
        "! mkdir ~/.kaggle\n",
        "! cp kaggle.json ~/.kaggle/\n",
        "! chmod 600 ~/.kaggle/kaggle.json"
      ],
      "metadata": {
        "id": "OYCtInO7opsi"
      },
      "execution_count": null,
      "outputs": []
    },
    {
      "cell_type": "code",
      "source": [
        "! kaggle datasets list"
      ],
      "metadata": {
        "colab": {
          "base_uri": "https://localhost:8080/"
        },
        "id": "R2BAJzhiorIp",
        "outputId": "e3293d5b-c81a-4551-c1f4-ba1c6b10c285"
      },
      "execution_count": null,
      "outputs": [
        {
          "output_type": "stream",
          "name": "stdout",
          "text": [
            "ref                                                          title                                                size  lastUpdated          downloadCount  voteCount  usabilityRating  \n",
            "-----------------------------------------------------------  --------------------------------------------------  -----  -------------------  -------------  ---------  ---------------  \n",
            "valakhorasani/mobile-device-usage-and-user-behavior-dataset  Mobile Device Usage and User Behavior Dataset        11KB  2024-09-28 20:21:12          14055        305  1.0              \n",
            "valakhorasani/gym-members-exercise-dataset                   Gym Members Exercise Dataset                         22KB  2024-10-06 11:27:38           7441        117  1.0              \n",
            "yusufdelikkaya/datascience-salaries-2024                     Data Science Salaries 2024                           69KB  2024-10-23 18:39:50           1141         28  0.88235295       \n",
            "lainguyn123/student-performance-factors                      Student Performance Factors                          94KB  2024-09-02 10:53:57          42696        733  1.0              \n",
            "bhadramohit/credit-card-fraud-detection                      Credit Card Fraud Detection                           2MB  2024-10-21 09:26:17           1326         25  1.0              \n",
            "iamavyukt/goibibo-flight-data                                Goibibo Flight Data                                   2MB  2024-10-17 14:42:37           1155         24  1.0              \n",
            "hasibur013/diabetes-dataset                                  Diabetes Dataset                                      9KB  2024-10-22 02:10:36           1393         35  1.0              \n",
            "ankulsharma150/netflix-data-analysis                         Netflix Data Analysis                                 1MB  2024-10-15 08:02:26           2967         39  1.0              \n",
            "arsalanjamal002/student-sleep-patterns                       Student Sleep Patterns                               11KB  2024-10-14 06:47:21           3038         40  0.7647059        \n",
            "octopusteam/imdb-top-1000-tv-series                          IMDb Top 1000 TV Series                              23KB  2024-10-25 08:00:06           1322         28  1.0              \n",
            "satvshr/top-4-used-car-sales-datasets-combined               Top 4 Used Car Sales Datasets Combined              446KB  2024-10-21 13:20:56           1880         33  0.9411765        \n",
            "arslaan5/explore-car-performance-fuel-efficiency-data        Explore Car Performance: Fuel Efficiency Data         5KB  2024-10-17 16:35:59           1341         29  1.0              \n",
            "waqi786/remote-work-and-mental-health                        Remote Work & Mental Health 🌍🧠                       93KB  2024-09-22 11:44:29           8730        115  1.0              \n",
            "ziya07/forest-health-and-ecological-diversity                Forest Health and Ecological Diversity              313KB  2024-10-25 10:16:24            622         26  0.9411765        \n",
            "fundal/students-annual-score-in-history-geography-subject    Students Annual Score in History Geography subject    8KB  2024-10-05 15:52:50            889         22  1.0              \n",
            "mexwell/google-merchandise-sales-data                        👕 Google Merchandise Sales Data                       5MB  2024-10-16 08:44:05           1748         25  1.0              \n",
            "aravinii/house-price-prediction-treated-dataset              House Price Prediction Treated Dataset              279KB  2024-10-22 01:17:46           2079         30  1.0              \n",
            "shriyashjagtap/indian-personal-finance-and-spending-habits   Indian Personal Finance and Spending Habits           4MB  2024-10-07 22:19:31            829         23  1.0              \n",
            "abdulszz/spotify-most-streamed-songs                         Spotify Most Streamed Songs                          60KB  2024-09-07 18:23:14          16987        215  1.0              \n",
            "ravi20076/janestreetpublicv1                                 JaneStreet|Public|V1                                133MB  2024-10-16 11:17:01            137         19  1.0              \n"
          ]
        }
      ]
    },
    {
      "cell_type": "code",
      "source": [
        "!kaggle datasets download -d 'ntl0601/casia-webface'"
      ],
      "metadata": {
        "colab": {
          "base_uri": "https://localhost:8080/"
        },
        "id": "r_AEALDcov88",
        "outputId": "d75b95e9-4cdf-4b99-8c64-b1dff00ae2c2"
      },
      "execution_count": null,
      "outputs": [
        {
          "output_type": "stream",
          "name": "stdout",
          "text": [
            "Dataset URL: https://www.kaggle.com/datasets/ntl0601/casia-webface\n",
            "License(s): unknown\n",
            "Downloading casia-webface.zip to /content\n",
            " 99% 2.52G/2.53G [00:26<00:00, 164MB/s]\n",
            "100% 2.53G/2.53G [00:27<00:00, 101MB/s]\n"
          ]
        }
      ]
    },
    {
      "cell_type": "code",
      "source": [
        "import zipfile\n",
        "\n",
        "zip_ref = zipfile.ZipFile('/content/casia-webface.zip', 'r')\n",
        "zip_ref.extractall('/content')\n",
        "zip_ref.close()"
      ],
      "metadata": {
        "id": "CSgJoMAIoya0"
      },
      "execution_count": null,
      "outputs": []
    },
    {
      "cell_type": "markdown",
      "source": [
        "# Preparation"
      ],
      "metadata": {
        "id": "2t9c1WrrWuU1"
      }
    },
    {
      "cell_type": "markdown",
      "source": [
        "Memasukkan library yang dibutuhkan."
      ],
      "metadata": {
        "id": "IUPL-6nxau3s"
      }
    },
    {
      "cell_type": "code",
      "source": [
        "# Import necessary libraries\n",
        "import os\n",
        "import numpy as np\n",
        "import cv2\n",
        "import matplotlib.pyplot as plt\n",
        "from skimage.feature import hog\n",
        "from sklearn.model_selection import train_test_split\n",
        "from tensorflow.keras.models import Sequential\n",
        "from tensorflow.keras.layers import Dense, Dropout\n",
        "from tensorflow.keras.utils import to_categorical"
      ],
      "metadata": {
        "id": "R_lDxehPqQxW"
      },
      "execution_count": null,
      "outputs": []
    },
    {
      "cell_type": "markdown",
      "source": [
        "# Load Data"
      ],
      "metadata": {
        "id": "0Ys4cGtkXFLS"
      }
    },
    {
      "cell_type": "code",
      "source": [
        "import os\n",
        "import shutil\n",
        "\n",
        "# Path to your dataset\n",
        "path = '/content/casia-webface'\n",
        "\n",
        "# Step 1: Filter classes with more than 500 images\n",
        "filtered_classes = []\n",
        "\n",
        "for class_dir in os.listdir(path):\n",
        "    class_path = os.path.join(path, class_dir)\n",
        "    if os.path.isdir(class_path):\n",
        "        num_images = len(os.listdir(class_path))\n",
        "        if num_images > 500:  # Check for more than 500 images\n",
        "            filtered_classes.append(class_dir)\n",
        "\n",
        "print(f\"Classes with more than 500 images: {len(filtered_classes)}\")\n",
        "\n",
        "# Step 2: Create a filtered dataset directory\n",
        "filtered_dataset_path = '/content/filtered5_casia_webface'\n",
        "\n",
        "os.makedirs(filtered_dataset_path, exist_ok=True)\n",
        "\n",
        "for class_dir in filtered_classes:\n",
        "    src_class_dir = os.path.join(path, class_dir)\n",
        "    dest_class_dir = os.path.join(filtered_dataset_path, class_dir)\n",
        "    os.makedirs(dest_class_dir, exist_ok=True)\n",
        "\n",
        "    # Step 3: Copy all images from the original dataset to the filtered dataset\n",
        "    for img_file in os.listdir(src_class_dir):\n",
        "        src_img = os.path.join(src_class_dir, img_file)\n",
        "        dest_img = os.path.join(dest_class_dir, img_file)\n",
        "        os.link(src_img, dest_img)  # Use os.link for fast linking instead of copying\n",
        "\n",
        "print(\"Filtering completed.\")"
      ],
      "metadata": {
        "colab": {
          "base_uri": "https://localhost:8080/"
        },
        "id": "PNTP51y6qRgt",
        "outputId": "84aed9a6-16e0-4b11-d819-7a8617d0ef52"
      },
      "execution_count": null,
      "outputs": [
        {
          "output_type": "stream",
          "name": "stdout",
          "text": [
            "Classes with more than 500 images: 11\n",
            "Filtering completed.\n"
          ]
        }
      ]
    },
    {
      "cell_type": "markdown",
      "source": [
        "# Preprocessing"
      ],
      "metadata": {
        "id": "Nec1t42kW2I6"
      }
    },
    {
      "cell_type": "markdown",
      "source": [
        "1. Definisi Fungsi:\n",
        "  - Fungsi `load_data` menerima jalur direktori `(dataset_dir)` sebagai input, yang berisi subdirektori untuk setiap kelas gambar.\n",
        "\n",
        "2. Inisialisasi Fitur dan Label:\n",
        "  - Dua daftar kosong, `features` dan `labels`, diinisialisasi untuk menyimpan fitur HOG dan label yang sesuai untuk setiap gambar.\n",
        "\n",
        "3. Loop Melalui Kelas:\n",
        "  - Fungsi ini mengiterasi melalui setiap direktori kelas yang ditemukan di `dataset_dir`.\n",
        "  - Untuk setiap kelas, jalur direktori dibangun dan diperiksa apakah itu adalah direktori.\n",
        "\n",
        "4. Proses Gambar:\n",
        "  - Di dalam setiap direktori kelas, loop dijalankan untuk semua file gambar:\n",
        "    - Gambar dibaca menggunakan OpenCV `(cv2.imread)`.\n",
        "    - Gambar diubah ukurannya menjadi 128x128 piksel untuk menstandarkan ukuran input bagi model.\n",
        "    - Gambar diubah menjadi grayscale, yang sering kali bermanfaat untuk ekstraksi fitur karena HOG lebih fokus pada gradien.\n",
        "\n",
        "5. Ekstraksi Fitur HOG:\n",
        "  - Fitur HOG diekstrak dari gambar grayscale menggunakan fungsi `hog`. Beberapa parameter penting:\n",
        "    - `orientations=9`: Jumlah bin orientasi untuk gradien.\n",
        "    - `pixels_per_cell=(8, 8)`: Ukuran sel tempat histogram dihitung.\n",
        "    - `cells_per_block=(2, 2)`: Jumlah sel dalam setiap blok untuk normalisasi.\n",
        "  - Fitur yang diekstrak ditambahkan ke daftar `features`, dan nama kelas yang sesuai ditambahkan ke daftar `labels`.\n",
        "\n",
        "6. Mengembalikan Fitur dan Label:\n",
        "  - Setelah memproses semua gambar, fungsi ini mengembalikan fitur dan label dalam bentuk array NumPy.\n",
        "\n",
        "7. Pengkodean Label:\n",
        "  - Label (nama kelas) diubah menjadi nilai integer menggunakan `LabelEncoder`. Ini adalah langkah pra-pemrosesan standar untuk tugas klasifikasi.\n",
        "\n",
        "8. Konversi Kategorikal:\n",
        "  - Label yang telah dienkode kemudian diubah menjadi format kategorikal yang sesuai untuk pelatihan jaringan saraf menggunakan `to_categorical`."
      ],
      "metadata": {
        "id": "3lH7I0ZMakkX"
      }
    },
    {
      "cell_type": "code",
      "source": [
        "def load_data(dataset_dir):\n",
        "    features = []\n",
        "    labels = []\n",
        "\n",
        "    # Loop through each class directory\n",
        "    for class_name in os.listdir(dataset_dir):\n",
        "        class_dir = os.path.join(dataset_dir, class_name)\n",
        "\n",
        "        if os.path.isdir(class_dir):\n",
        "            for img_file in os.listdir(class_dir):\n",
        "                img_path = os.path.join(class_dir, img_file)\n",
        "\n",
        "                # Read the image\n",
        "                image = cv2.imread(img_path)\n",
        "                image = cv2.resize(image, (128, 128))  # Resize to match ANN input size\n",
        "\n",
        "                # Convert to grayscale\n",
        "                gray_image = cv2.cvtColor(image, cv2.COLOR_BGR2GRAY)\n",
        "\n",
        "                # Extract HOG features (remove multichannel argument)\n",
        "                hog_features = hog(gray_image, orientations=9, pixels_per_cell=(8, 8),\n",
        "                                   cells_per_block=(2, 2), visualize=False)\n",
        "\n",
        "                features.append(hog_features)\n",
        "                labels.append(class_name)\n",
        "\n",
        "    return np.array(features), np.array(labels)\n",
        "\n",
        "# Load the dataset and extract features\n",
        "dataset_dir = '/content/filtered5_casia_webface'  # Update with your dataset path\n",
        "X, y = load_data(dataset_dir)\n",
        "\n",
        "# Encode labels to integers\n",
        "from sklearn.preprocessing import LabelEncoder\n",
        "label_encoder = LabelEncoder()\n",
        "y_encoded = label_encoder.fit_transform(y)\n",
        "\n",
        "# Convert labels to categorical\n",
        "y_categorical = to_categorical(y_encoded)"
      ],
      "metadata": {
        "id": "Ois0C9C0CUWc"
      },
      "execution_count": null,
      "outputs": []
    },
    {
      "cell_type": "markdown",
      "source": [
        "Pembagian dataset menjadi dua subset: satu untuk pelatihan (`X_train`, `y_train`) dan satu untuk validasi (`X_val`, `y_val`)"
      ],
      "metadata": {
        "id": "6_Kk-JLoapid"
      }
    },
    {
      "cell_type": "code",
      "source": [
        "X_train, X_val, y_train, y_val = train_test_split(X, y_categorical, test_size=0.1, random_state=42)"
      ],
      "metadata": {
        "id": "xaAHC3INDXym"
      },
      "execution_count": null,
      "outputs": []
    },
    {
      "cell_type": "markdown",
      "source": [
        "# Build Model"
      ],
      "metadata": {
        "id": "dJTxBSjuXI6G"
      }
    },
    {
      "cell_type": "markdown",
      "source": [
        "Ringkasan Struktur Model ANN\n",
        "- Total Layer: 4 (2 Dense dan 2 Dropout)\n",
        "- Fungsi Aktivasi: ReLU untuk layer tersembunyi dan Softmax untuk layer output.\n",
        "- Dropout: Mengurangi risiko overfitting dengan menonaktifkan neuron secara acak."
      ],
      "metadata": {
        "id": "3qaYJUD3aZ1V"
      }
    },
    {
      "cell_type": "code",
      "source": [
        "model = Sequential()\n",
        "model.add(Dense(256, activation='relu', input_shape=(X_train.shape[1],)))\n",
        "model.add(Dropout(0.5))\n",
        "model.add(Dense(128, activation='relu'))\n",
        "model.add(Dropout(0.5))\n",
        "model.add(Dense(y_categorical.shape[1], activation='softmax'))  # Number of classes\n",
        "\n",
        "model.compile(loss='categorical_crossentropy', optimizer='adam', metrics=['accuracy'])"
      ],
      "metadata": {
        "colab": {
          "base_uri": "https://localhost:8080/"
        },
        "id": "ExBpVdxJCmRR",
        "outputId": "afb22576-c073-4dd4-bf1c-181c23aa9d66"
      },
      "execution_count": null,
      "outputs": [
        {
          "output_type": "stream",
          "name": "stderr",
          "text": [
            "/usr/local/lib/python3.10/dist-packages/keras/src/layers/core/dense.py:87: UserWarning: Do not pass an `input_shape`/`input_dim` argument to a layer. When using Sequential models, prefer using an `Input(shape)` object as the first layer in the model instead.\n",
            "  super().__init__(activity_regularizer=activity_regularizer, **kwargs)\n"
          ]
        }
      ]
    },
    {
      "cell_type": "markdown",
      "source": [
        "Melatih model dengan data pelatihan sambil memantau akurasi pada data validasi untuk memastikan model belajar dengan baik."
      ],
      "metadata": {
        "id": "WxcSQdxyadcn"
      }
    },
    {
      "cell_type": "code",
      "source": [
        "history = model.fit(X_train, y_train, validation_data=(X_val, y_val), epochs=20, batch_size=32)"
      ],
      "metadata": {
        "colab": {
          "base_uri": "https://localhost:8080/"
        },
        "id": "z6-sz_7ECqi4",
        "outputId": "e1e26c26-88c9-4406-e304-05030a697120"
      },
      "execution_count": null,
      "outputs": [
        {
          "output_type": "stream",
          "name": "stdout",
          "text": [
            "Epoch 1/20\n",
            "\u001b[1m205/205\u001b[0m \u001b[32m━━━━━━━━━━━━━━━━━━━━\u001b[0m\u001b[37m\u001b[0m \u001b[1m7s\u001b[0m 17ms/step - accuracy: 0.1604 - loss: 2.4515 - val_accuracy: 0.4897 - val_loss: 1.7294\n",
            "Epoch 2/20\n",
            "\u001b[1m205/205\u001b[0m \u001b[32m━━━━━━━━━━━━━━━━━━━━\u001b[0m\u001b[37m\u001b[0m \u001b[1m5s\u001b[0m 3ms/step - accuracy: 0.3822 - loss: 1.7309 - val_accuracy: 0.6850 - val_loss: 1.1954\n",
            "Epoch 3/20\n",
            "\u001b[1m205/205\u001b[0m \u001b[32m━━━━━━━━━━━━━━━━━━━━\u001b[0m\u001b[37m\u001b[0m \u001b[1m1s\u001b[0m 3ms/step - accuracy: 0.4846 - loss: 1.4446 - val_accuracy: 0.7400 - val_loss: 0.9260\n",
            "Epoch 4/20\n",
            "\u001b[1m205/205\u001b[0m \u001b[32m━━━━━━━━━━━━━━━━━━━━\u001b[0m\u001b[37m\u001b[0m \u001b[1m1s\u001b[0m 3ms/step - accuracy: 0.5491 - loss: 1.2577 - val_accuracy: 0.7854 - val_loss: 0.8596\n",
            "Epoch 5/20\n",
            "\u001b[1m205/205\u001b[0m \u001b[32m━━━━━━━━━━━━━━━━━━━━\u001b[0m\u001b[37m\u001b[0m \u001b[1m1s\u001b[0m 3ms/step - accuracy: 0.5652 - loss: 1.1939 - val_accuracy: 0.7827 - val_loss: 0.8359\n",
            "Epoch 6/20\n",
            "\u001b[1m205/205\u001b[0m \u001b[32m━━━━━━━━━━━━━━━━━━━━\u001b[0m\u001b[37m\u001b[0m \u001b[1m1s\u001b[0m 3ms/step - accuracy: 0.5945 - loss: 1.1011 - val_accuracy: 0.7923 - val_loss: 0.7664\n",
            "Epoch 7/20\n",
            "\u001b[1m205/205\u001b[0m \u001b[32m━━━━━━━━━━━━━━━━━━━━\u001b[0m\u001b[37m\u001b[0m \u001b[1m1s\u001b[0m 3ms/step - accuracy: 0.6006 - loss: 1.0780 - val_accuracy: 0.7882 - val_loss: 0.7121\n",
            "Epoch 8/20\n",
            "\u001b[1m205/205\u001b[0m \u001b[32m━━━━━━━━━━━━━━━━━━━━\u001b[0m\u001b[37m\u001b[0m \u001b[1m1s\u001b[0m 3ms/step - accuracy: 0.6203 - loss: 1.0173 - val_accuracy: 0.7950 - val_loss: 0.6933\n",
            "Epoch 9/20\n",
            "\u001b[1m205/205\u001b[0m \u001b[32m━━━━━━━━━━━━━━━━━━━━\u001b[0m\u001b[37m\u001b[0m \u001b[1m1s\u001b[0m 3ms/step - accuracy: 0.6611 - loss: 0.9330 - val_accuracy: 0.8157 - val_loss: 0.6609\n",
            "Epoch 10/20\n",
            "\u001b[1m205/205\u001b[0m \u001b[32m━━━━━━━━━━━━━━━━━━━━\u001b[0m\u001b[37m\u001b[0m \u001b[1m1s\u001b[0m 3ms/step - accuracy: 0.6580 - loss: 0.9174 - val_accuracy: 0.7772 - val_loss: 0.7602\n",
            "Epoch 11/20\n",
            "\u001b[1m205/205\u001b[0m \u001b[32m━━━━━━━━━━━━━━━━━━━━\u001b[0m\u001b[37m\u001b[0m \u001b[1m1s\u001b[0m 3ms/step - accuracy: 0.6717 - loss: 0.9199 - val_accuracy: 0.8184 - val_loss: 0.6469\n",
            "Epoch 12/20\n",
            "\u001b[1m205/205\u001b[0m \u001b[32m━━━━━━━━━━━━━━━━━━━━\u001b[0m\u001b[37m\u001b[0m \u001b[1m1s\u001b[0m 3ms/step - accuracy: 0.6757 - loss: 0.8967 - val_accuracy: 0.8033 - val_loss: 0.6595\n",
            "Epoch 13/20\n",
            "\u001b[1m205/205\u001b[0m \u001b[32m━━━━━━━━━━━━━━━━━━━━\u001b[0m\u001b[37m\u001b[0m \u001b[1m1s\u001b[0m 3ms/step - accuracy: 0.6896 - loss: 0.8544 - val_accuracy: 0.8033 - val_loss: 0.6750\n",
            "Epoch 14/20\n",
            "\u001b[1m205/205\u001b[0m \u001b[32m━━━━━━━━━━━━━━━━━━━━\u001b[0m\u001b[37m\u001b[0m \u001b[1m1s\u001b[0m 3ms/step - accuracy: 0.6760 - loss: 0.8436 - val_accuracy: 0.8006 - val_loss: 0.6885\n",
            "Epoch 15/20\n",
            "\u001b[1m205/205\u001b[0m \u001b[32m━━━━━━━━━━━━━━━━━━━━\u001b[0m\u001b[37m\u001b[0m \u001b[1m1s\u001b[0m 3ms/step - accuracy: 0.6765 - loss: 0.8863 - val_accuracy: 0.8006 - val_loss: 0.6590\n",
            "Epoch 16/20\n",
            "\u001b[1m205/205\u001b[0m \u001b[32m━━━━━━━━━━━━━━━━━━━━\u001b[0m\u001b[37m\u001b[0m \u001b[1m1s\u001b[0m 3ms/step - accuracy: 0.6959 - loss: 0.8373 - val_accuracy: 0.8088 - val_loss: 0.6562\n",
            "Epoch 17/20\n",
            "\u001b[1m205/205\u001b[0m \u001b[32m━━━━━━━━━━━━━━━━━━━━\u001b[0m\u001b[37m\u001b[0m \u001b[1m1s\u001b[0m 4ms/step - accuracy: 0.7083 - loss: 0.7870 - val_accuracy: 0.8033 - val_loss: 0.6751\n",
            "Epoch 18/20\n",
            "\u001b[1m205/205\u001b[0m \u001b[32m━━━━━━━━━━━━━━━━━━━━\u001b[0m\u001b[37m\u001b[0m \u001b[1m1s\u001b[0m 4ms/step - accuracy: 0.7054 - loss: 0.7757 - val_accuracy: 0.8171 - val_loss: 0.6395\n",
            "Epoch 19/20\n",
            "\u001b[1m205/205\u001b[0m \u001b[32m━━━━━━━━━━━━━━━━━━━━\u001b[0m\u001b[37m\u001b[0m \u001b[1m1s\u001b[0m 3ms/step - accuracy: 0.7202 - loss: 0.7712 - val_accuracy: 0.7840 - val_loss: 0.7689\n",
            "Epoch 20/20\n",
            "\u001b[1m205/205\u001b[0m \u001b[32m━━━━━━━━━━━━━━━━━━━━\u001b[0m\u001b[37m\u001b[0m \u001b[1m1s\u001b[0m 3ms/step - accuracy: 0.7274 - loss: 0.7553 - val_accuracy: 0.8019 - val_loss: 0.6905\n"
          ]
        }
      ]
    },
    {
      "cell_type": "markdown",
      "source": [
        "# Evaluation"
      ],
      "metadata": {
        "id": "tSJbxjRAXMyE"
      }
    },
    {
      "cell_type": "markdown",
      "source": [
        "Evaluasi model dan memvisualisasikan hasil pelatihan."
      ],
      "metadata": {
        "id": "5MXa9qn5aVVT"
      }
    },
    {
      "cell_type": "code",
      "source": [
        "# Evaluate the model\n",
        "val_loss, val_acc = model.evaluate(X_val, y_val)\n",
        "print(f\"Validation Accuracy: {val_acc * 100:.2f}%\")\n",
        "\n",
        "# Plot the training and validation accuracy and loss\n",
        "plt.figure(figsize=(12, 4))\n",
        "\n",
        "# Accuracy plot\n",
        "plt.subplot(1, 2, 1)\n",
        "plt.plot(history.history['accuracy'], label='Train Accuracy')\n",
        "plt.plot(history.history['val_accuracy'], label='Validation Accuracy')\n",
        "plt.title('Accuracy over Epochs')\n",
        "plt.xlabel('Epochs')\n",
        "plt.ylabel('Accuracy')\n",
        "plt.legend()\n",
        "\n",
        "# Loss plot\n",
        "plt.subplot(1, 2, 2)\n",
        "plt.plot(history.history['loss'], label='Train Loss')\n",
        "plt.plot(history.history['val_loss'], label='Validation Loss')\n",
        "plt.title('Loss over Epochs')\n",
        "plt.xlabel('Epochs')\n",
        "plt.ylabel('Loss')\n",
        "plt.legend()\n",
        "\n",
        "plt.show()"
      ],
      "metadata": {
        "colab": {
          "base_uri": "https://localhost:8080/",
          "height": 446
        },
        "id": "EOEcNbdTECbl",
        "outputId": "953b2d05-51db-442d-ffc2-ba727d351637"
      },
      "execution_count": null,
      "outputs": [
        {
          "output_type": "stream",
          "name": "stdout",
          "text": [
            "\u001b[1m23/23\u001b[0m \u001b[32m━━━━━━━━━━━━━━━━━━━━\u001b[0m\u001b[37m\u001b[0m \u001b[1m0s\u001b[0m 2ms/step - accuracy: 0.8090 - loss: 0.6245 \n",
            "Validation Accuracy: 80.19%\n"
          ]
        },
        {
          "output_type": "display_data",
          "data": {
            "text/plain": [
              "<Figure size 1200x400 with 2 Axes>"
            ],
            "image/png": "[encoded data removed]"
          },
          "metadata": {}
        }
      ]
    },
    {
      "cell_type": "code",
      "source": [
        "!jupyter nbconvert --to html /content/ML_UTS.ipynb"
      ],
      "metadata": {
        "colab": {
          "base_uri": "https://localhost:8080/"
        },
        "id": "Bv4Fv3ndb6VT",
        "outputId": "71ffed60-5c04-4398-959a-5f002040fd0c"
      },
      "execution_count": null,
      "outputs": [
        {
          "output_type": "stream",
          "name": "stdout",
          "text": [
            "[NbConvertApp] Converting notebook /content/ML_UTS.ipynb to html\n",
            "[NbConvertApp] Writing 703824 bytes to /content/ML_UTS.html\n"
          ]
        }
      ]
    }
  ]
}